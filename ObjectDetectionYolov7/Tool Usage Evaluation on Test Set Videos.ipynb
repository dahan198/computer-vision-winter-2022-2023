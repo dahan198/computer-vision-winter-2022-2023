{
 "cells": [
  {
   "cell_type": "markdown",
   "id": "aa7b122b",
   "metadata": {},
   "source": [
    "# <center> Tool Usage Evaluation on Test Set Videos </center>"
   ]
  },
  {
   "cell_type": "code",
   "execution_count": 1,
   "id": "611939a0",
   "metadata": {},
   "outputs": [],
   "source": [
    "import cv2\n",
    "from tqdm.notebook import tqdm\n",
    "import sys\n",
    "import os\n",
    "sys.path.append('./yolov7')\n",
    "import yolov7\n",
    "from load_model import load_model\n",
    "from smooth_results import SmoothedVideo\n",
    "import pandas as pd\n",
    "import json\n",
    "from sklearn.metrics import classification_report\n",
    "import warnings\n",
    "warnings.filterwarnings('ignore')"
   ]
  },
  {
   "cell_type": "code",
   "execution_count": 2,
   "id": "d426f5b2",
   "metadata": {},
   "outputs": [],
   "source": [
    "# Create Tool Usage Dict\n",
    "with open('.//HW1_dataset//tool_usage//tools.txt', 'r') as file:\n",
    "  # Read the contents of the file\n",
    "  contents = file.read()\n",
    "\n",
    "# Strip the leading \"tool_usage =\" and trailing newlines from the string\n",
    "contents = contents.strip().lstrip('tool_usage =')\n",
    "tool_usage_dict = json.loads(contents)\n",
    "tool_usage_dict = {v: k.capitalize() for k, v in tool_usage_dict.items()}\n",
    "tool_usage_dict['T0'] = 'Empty'"
   ]
  },
  {
   "cell_type": "code",
   "execution_count": 3,
   "id": "24898984",
   "metadata": {
    "scrolled": true
   },
   "outputs": [
    {
     "data": {
      "text/plain": [
       "{'T0': 'Empty', 'T1': 'Needle_driver', 'T2': 'Forceps', 'T3': 'Scissors'}"
      ]
     },
     "execution_count": 3,
     "metadata": {},
     "output_type": "execute_result"
    }
   ],
   "source": [
    "tool_usage_dict"
   ]
  },
  {
   "cell_type": "code",
   "execution_count": 4,
   "id": "08de797c",
   "metadata": {},
   "outputs": [
    {
     "data": {
      "text/html": [
       "<div>\n",
       "<style scoped>\n",
       "    .dataframe tbody tr th:only-of-type {\n",
       "        vertical-align: middle;\n",
       "    }\n",
       "\n",
       "    .dataframe tbody tr th {\n",
       "        vertical-align: top;\n",
       "    }\n",
       "\n",
       "    .dataframe thead th {\n",
       "        text-align: right;\n",
       "    }\n",
       "</style>\n",
       "<table border=\"1\" class=\"dataframe\">\n",
       "  <thead>\n",
       "    <tr style=\"text-align: right;\">\n",
       "      <th></th>\n",
       "      <th>Video Name</th>\n",
       "      <th>Min Frame</th>\n",
       "      <th>Max Frame</th>\n",
       "      <th>Hand</th>\n",
       "      <th>Class</th>\n",
       "    </tr>\n",
       "  </thead>\n",
       "  <tbody>\n",
       "    <tr>\n",
       "      <th>0</th>\n",
       "      <td>P022_balloon1.wmv</td>\n",
       "      <td>0</td>\n",
       "      <td>251</td>\n",
       "      <td>Right</td>\n",
       "      <td>T0</td>\n",
       "    </tr>\n",
       "    <tr>\n",
       "      <th>1</th>\n",
       "      <td>P022_balloon1.wmv</td>\n",
       "      <td>252</td>\n",
       "      <td>2893</td>\n",
       "      <td>Right</td>\n",
       "      <td>T1</td>\n",
       "    </tr>\n",
       "    <tr>\n",
       "      <th>2</th>\n",
       "      <td>P022_balloon1.wmv</td>\n",
       "      <td>2894</td>\n",
       "      <td>2923</td>\n",
       "      <td>Right</td>\n",
       "      <td>T0</td>\n",
       "    </tr>\n",
       "    <tr>\n",
       "      <th>3</th>\n",
       "      <td>P022_balloon1.wmv</td>\n",
       "      <td>2924</td>\n",
       "      <td>3088</td>\n",
       "      <td>Right</td>\n",
       "      <td>T3</td>\n",
       "    </tr>\n",
       "    <tr>\n",
       "      <th>4</th>\n",
       "      <td>P022_balloon1.wmv</td>\n",
       "      <td>3089</td>\n",
       "      <td>3253</td>\n",
       "      <td>Right</td>\n",
       "      <td>T0</td>\n",
       "    </tr>\n",
       "    <tr>\n",
       "      <th>...</th>\n",
       "      <td>...</td>\n",
       "      <td>...</td>\n",
       "      <td>...</td>\n",
       "      <td>...</td>\n",
       "      <td>...</td>\n",
       "    </tr>\n",
       "    <tr>\n",
       "      <th>98</th>\n",
       "      <td>P026_tissue1.wmv</td>\n",
       "      <td>10289</td>\n",
       "      <td>11607</td>\n",
       "      <td>Left</td>\n",
       "      <td>T0</td>\n",
       "    </tr>\n",
       "    <tr>\n",
       "      <th>99</th>\n",
       "      <td>P026_tissue1.wmv</td>\n",
       "      <td>11608</td>\n",
       "      <td>13090</td>\n",
       "      <td>Left</td>\n",
       "      <td>T2</td>\n",
       "    </tr>\n",
       "    <tr>\n",
       "      <th>100</th>\n",
       "      <td>P026_tissue1.wmv</td>\n",
       "      <td>13091</td>\n",
       "      <td>13345</td>\n",
       "      <td>Left</td>\n",
       "      <td>T0</td>\n",
       "    </tr>\n",
       "    <tr>\n",
       "      <th>101</th>\n",
       "      <td>P026_tissue1.wmv</td>\n",
       "      <td>13346</td>\n",
       "      <td>13786</td>\n",
       "      <td>Left</td>\n",
       "      <td>T2</td>\n",
       "    </tr>\n",
       "    <tr>\n",
       "      <th>102</th>\n",
       "      <td>P026_tissue1.wmv</td>\n",
       "      <td>13787</td>\n",
       "      <td>14896</td>\n",
       "      <td>Left</td>\n",
       "      <td>T0</td>\n",
       "    </tr>\n",
       "  </tbody>\n",
       "</table>\n",
       "<p>103 rows × 5 columns</p>\n",
       "</div>"
      ],
      "text/plain": [
       "            Video Name  Min Frame  Max Frame   Hand Class\n",
       "0    P022_balloon1.wmv          0        251  Right    T0\n",
       "1    P022_balloon1.wmv        252       2893  Right    T1\n",
       "2    P022_balloon1.wmv       2894       2923  Right    T0\n",
       "3    P022_balloon1.wmv       2924       3088  Right    T3\n",
       "4    P022_balloon1.wmv       3089       3253  Right    T0\n",
       "..                 ...        ...        ...    ...   ...\n",
       "98    P026_tissue1.wmv      10289      11607   Left    T0\n",
       "99    P026_tissue1.wmv      11608      13090   Left    T2\n",
       "100   P026_tissue1.wmv      13091      13345   Left    T0\n",
       "101   P026_tissue1.wmv      13346      13786   Left    T2\n",
       "102   P026_tissue1.wmv      13787      14896   Left    T0\n",
       "\n",
       "[103 rows x 5 columns]"
      ]
     },
     "execution_count": 4,
     "metadata": {},
     "output_type": "execute_result"
    }
   ],
   "source": [
    "real_labels = {'Video Name': [], 'Min Frame': [], 'Max Frame': [], 'Hand': [], 'Class': []}\n",
    "for video in os.listdir('./videos'):\n",
    "    for hand in ['Right', 'Left']:\n",
    "        with open(f'.//HW1_dataset//tool_usage//tools_{hand.lower()}//{video.split(\".\")[0]}.txt', 'r') as file:\n",
    "              contents = file.readlines()\n",
    "        for row in contents:\n",
    "            minimum, maximum, label = row.split(' ')\n",
    "            label = label.replace('\\n', '')\n",
    "            real_labels['Video Name'].append(video)\n",
    "            real_labels['Min Frame'].append(minimum)\n",
    "            real_labels['Max Frame'].append(maximum)\n",
    "            real_labels['Hand'].append(hand)\n",
    "            real_labels['Class'].append(label)\n",
    "            \n",
    "real_labels = pd.DataFrame(real_labels)\n",
    "real_labels['Min Frame'] = real_labels['Min Frame'].astype(int)\n",
    "real_labels['Max Frame'] = real_labels['Max Frame'].astype(int)\n",
    "real_labels"
   ]
  },
  {
   "cell_type": "code",
   "execution_count": 5,
   "id": "df94f6d9",
   "metadata": {},
   "outputs": [],
   "source": [
    "classes_names = {'Right_Scissors': 0, 'Left_Scissors': 1, 'Right_Needle_driver': 2, 'Left_Needle_driver': 3,\n",
    "                 'Right_Forceps': 4, 'Left_Forceps': 5, 'Right_Empty': 6, 'Left_Empty': 7}"
   ]
  },
  {
   "cell_type": "code",
   "execution_count": 6,
   "id": "9057bff0",
   "metadata": {},
   "outputs": [],
   "source": [
    "def get_video_tool_usage_predictions(model, video_path, desc, smooth_thres):\n",
    "    \n",
    "    tools_usages = []\n",
    "    sv = SmoothedVideo(model, smooth_thres=smooth_thres)\n",
    "    \n",
    "    # Open the video file\n",
    "    cap = cv2.VideoCapture(video_path)   \n",
    "    property_id = int(cv2.CAP_PROP_FRAME_COUNT)\n",
    "    length = int(cv2.VideoCapture.get(cap, property_id))\n",
    "\n",
    "    # Check if the video file is opened successfully\n",
    "    if not cap.isOpened():\n",
    "        print('Error opening video file')\n",
    "\n",
    "    # Read the frames of the video one by one\n",
    "    for t in tqdm(range(length), desc=desc):\n",
    "        \n",
    "        # Read the next frame\n",
    "        ret, frame = cap.read()\n",
    "\n",
    "        # Check if the frame was read successfully\n",
    "        if not ret:\n",
    "            break\n",
    "        \n",
    "        im_rgb = cv2.cvtColor(frame, cv2.COLOR_BGR2RGB)\n",
    "        __, tool_usage = sv.make_smooth(im_rgb)\n",
    "        tools_usages.append(tool_usage)\n",
    "\n",
    "    # Release the video file\n",
    "    cap.release()\n",
    "\n",
    "    # Close all windows\n",
    "    cv2.destroyAllWindows()\n",
    "    \n",
    "    return tools_usages"
   ]
  },
  {
   "cell_type": "code",
   "execution_count": 7,
   "id": "96de6486",
   "metadata": {},
   "outputs": [],
   "source": [
    "cfgs = ['./yolov7/cfg/training/yolov7-tiny-exp1.yaml',\n",
    "        './yolov7/cfg/training/yolov7-tiny-exp1.yaml',\n",
    "        './yolov7/cfg/training/yolov7-tiny-exp1.yaml']\n",
    "weights = ['./yolov7/runs/train/exp/weights/best.pt',\n",
    "          './yolov7/runs/train/exp2/weights/best.pt',\n",
    "          './yolov7/runs/train/exp3/weights/best.pt']\n",
    "conf = [0.95, 0.87, 0.87]"
   ]
  },
  {
   "cell_type": "code",
   "execution_count": 8,
   "id": "384e9895",
   "metadata": {},
   "outputs": [
    {
     "data": {
      "application/vnd.jupyter.widget-view+json": {
       "model_id": "878ed1bafdcc4f9c8a3b1a62e92bf094",
       "version_major": 2,
       "version_minor": 0
      },
      "text/plain": [
       "P022_balloon1.wmv:   0%|          | 0/7589 [00:00<?, ?it/s]"
      ]
     },
     "metadata": {},
     "output_type": "display_data"
    },
    {
     "data": {
      "application/vnd.jupyter.widget-view+json": {
       "model_id": "db95db8529e54e8b8624a685f3ba4655",
       "version_major": 2,
       "version_minor": 0
      },
      "text/plain": [
       "P023_tissue2.wmv:   0%|          | 0/11727 [00:00<?, ?it/s]"
      ]
     },
     "metadata": {},
     "output_type": "display_data"
    },
    {
     "data": {
      "application/vnd.jupyter.widget-view+json": {
       "model_id": "c997b5317b0d4559bad6197ee4aa58c4",
       "version_major": 2,
       "version_minor": 0
      },
      "text/plain": [
       "P024_balloon1.wmv:   0%|          | 0/6761 [00:00<?, ?it/s]"
      ]
     },
     "metadata": {},
     "output_type": "display_data"
    },
    {
     "data": {
      "application/vnd.jupyter.widget-view+json": {
       "model_id": "f5c0488f190d4f63a81d3d9ee2f4d7e6",
       "version_major": 2,
       "version_minor": 0
      },
      "text/plain": [
       "P025_tissue2.wmv:   0%|          | 0/4904 [00:00<?, ?it/s]"
      ]
     },
     "metadata": {},
     "output_type": "display_data"
    },
    {
     "data": {
      "application/vnd.jupyter.widget-view+json": {
       "model_id": "df4bb20c69f2450293cc2b9aa21eead2",
       "version_major": 2,
       "version_minor": 0
      },
      "text/plain": [
       "P026_tissue1.wmv:   0%|          | 0/14893 [00:00<?, ?it/s]"
      ]
     },
     "metadata": {},
     "output_type": "display_data"
    },
    {
     "data": {
      "application/vnd.jupyter.widget-view+json": {
       "model_id": "88604da72caf4206ba8be6715a9a2f88",
       "version_major": 2,
       "version_minor": 0
      },
      "text/plain": [
       "P022_balloon1.wmv:   0%|          | 0/7589 [00:00<?, ?it/s]"
      ]
     },
     "metadata": {},
     "output_type": "display_data"
    },
    {
     "data": {
      "application/vnd.jupyter.widget-view+json": {
       "model_id": "702d5a2ede0843a188553ba30ce58d88",
       "version_major": 2,
       "version_minor": 0
      },
      "text/plain": [
       "P023_tissue2.wmv:   0%|          | 0/11727 [00:00<?, ?it/s]"
      ]
     },
     "metadata": {},
     "output_type": "display_data"
    },
    {
     "data": {
      "application/vnd.jupyter.widget-view+json": {
       "model_id": "dd14ffe42f4d420abf831b1953ec8faf",
       "version_major": 2,
       "version_minor": 0
      },
      "text/plain": [
       "P024_balloon1.wmv:   0%|          | 0/6761 [00:00<?, ?it/s]"
      ]
     },
     "metadata": {},
     "output_type": "display_data"
    },
    {
     "data": {
      "application/vnd.jupyter.widget-view+json": {
       "model_id": "588c9db1cddc497091dc9ec1ecfd2c91",
       "version_major": 2,
       "version_minor": 0
      },
      "text/plain": [
       "P025_tissue2.wmv:   0%|          | 0/4904 [00:00<?, ?it/s]"
      ]
     },
     "metadata": {},
     "output_type": "display_data"
    },
    {
     "data": {
      "application/vnd.jupyter.widget-view+json": {
       "model_id": "14511f15ef11448290fd9349610e31f1",
       "version_major": 2,
       "version_minor": 0
      },
      "text/plain": [
       "P026_tissue1.wmv:   0%|          | 0/14893 [00:00<?, ?it/s]"
      ]
     },
     "metadata": {},
     "output_type": "display_data"
    },
    {
     "data": {
      "application/vnd.jupyter.widget-view+json": {
       "model_id": "7e77ed149d524025ae6e4c1b26b0d86a",
       "version_major": 2,
       "version_minor": 0
      },
      "text/plain": [
       "P022_balloon1.wmv:   0%|          | 0/7589 [00:00<?, ?it/s]"
      ]
     },
     "metadata": {},
     "output_type": "display_data"
    },
    {
     "data": {
      "application/vnd.jupyter.widget-view+json": {
       "model_id": "a9a3dde13ede4c9bb4ecfecd471ada33",
       "version_major": 2,
       "version_minor": 0
      },
      "text/plain": [
       "P023_tissue2.wmv:   0%|          | 0/11727 [00:00<?, ?it/s]"
      ]
     },
     "metadata": {},
     "output_type": "display_data"
    },
    {
     "data": {
      "application/vnd.jupyter.widget-view+json": {
       "model_id": "83aaf5237fb143bfa6bddaa4f3f55e71",
       "version_major": 2,
       "version_minor": 0
      },
      "text/plain": [
       "P024_balloon1.wmv:   0%|          | 0/6761 [00:00<?, ?it/s]"
      ]
     },
     "metadata": {},
     "output_type": "display_data"
    },
    {
     "data": {
      "application/vnd.jupyter.widget-view+json": {
       "model_id": "daebb69a4ea44cffbb31511b8e50e05b",
       "version_major": 2,
       "version_minor": 0
      },
      "text/plain": [
       "P025_tissue2.wmv:   0%|          | 0/4904 [00:00<?, ?it/s]"
      ]
     },
     "metadata": {},
     "output_type": "display_data"
    },
    {
     "data": {
      "application/vnd.jupyter.widget-view+json": {
       "model_id": "40de4ebf514c4dcc9b5ef9fa4b5e5bf1",
       "version_major": 2,
       "version_minor": 0
      },
      "text/plain": [
       "P026_tissue1.wmv:   0%|          | 0/14893 [00:00<?, ?it/s]"
      ]
     },
     "metadata": {},
     "output_type": "display_data"
    }
   ],
   "source": [
    "experiments = []\n",
    "\n",
    "for m in range(3):\n",
    "    model = load_model(cfgs[m], weights[m])\n",
    "    video_results = {'Video Name': [], 'Frame': [], 'Hand': [], 'Prediction': []}\n",
    "    for video in os.listdir('./videos'):\n",
    "        labels = get_video_tool_usage_predictions(model,'./videos/' + video, video, smooth_thres=conf[m])\n",
    "        for i, label in enumerate(labels):\n",
    "            for val in label:\n",
    "                if val % 2 == 0:\n",
    "                    video_results['Hand'].append('Right')\n",
    "                else:\n",
    "                    video_results['Hand'].append('Left')\n",
    "                video_results['Video Name'].append(video)\n",
    "                video_results['Frame'].append(i)\n",
    "                video_results['Prediction'].append(int(val))\n",
    "    tool_usage = pd.DataFrame(video_results)\n",
    "    tool_usage['Real Class'] = 0\n",
    "    for i in range(len(tool_usage)):\n",
    "        real_class = real_labels[(real_labels['Video Name'] == tool_usage['Video Name'][i]) & \n",
    "                                 (real_labels['Min Frame'] <= tool_usage['Frame'][i]) & \n",
    "                                 (tool_usage['Frame'][i] <= real_labels['Max Frame']) &\n",
    "                                 (real_labels['Hand'] == tool_usage['Hand'][i])]['Class'].item()\n",
    "        tool_usage['Real Class'][i] = real_class\n",
    "    tool_usage['Real Class'] = tool_usage['Real Class'].apply(lambda x: tool_usage_dict[x])\n",
    "    tool_usage['Real Class'] = tool_usage['Hand'] + '_' + tool_usage['Real Class']\n",
    "    tool_usage['Real Class'] = tool_usage['Real Class'].apply(lambda x: classes_names[x])\n",
    "    experiments.append(tool_usage)"
   ]
  },
  {
   "cell_type": "markdown",
   "id": "913d273c",
   "metadata": {},
   "source": [
    "## Experiment 1"
   ]
  },
  {
   "cell_type": "code",
   "execution_count": 9,
   "id": "a651e376",
   "metadata": {},
   "outputs": [],
   "source": [
    "report = classification_report(experiments[0]['Real Class'], experiments[0]['Prediction'],output_dict=True)"
   ]
  },
  {
   "cell_type": "code",
   "execution_count": 10,
   "id": "d5f3c1cd",
   "metadata": {},
   "outputs": [
    {
     "data": {
      "text/html": [
       "<div>\n",
       "<style scoped>\n",
       "    .dataframe tbody tr th:only-of-type {\n",
       "        vertical-align: middle;\n",
       "    }\n",
       "\n",
       "    .dataframe tbody tr th {\n",
       "        vertical-align: top;\n",
       "    }\n",
       "\n",
       "    .dataframe thead th {\n",
       "        text-align: right;\n",
       "    }\n",
       "</style>\n",
       "<table border=\"1\" class=\"dataframe\">\n",
       "  <thead>\n",
       "    <tr style=\"text-align: right;\">\n",
       "      <th></th>\n",
       "      <th>precision</th>\n",
       "      <th>recall</th>\n",
       "      <th>f1-score</th>\n",
       "      <th>support</th>\n",
       "    </tr>\n",
       "  </thead>\n",
       "  <tbody>\n",
       "    <tr>\n",
       "      <th>0</th>\n",
       "      <td>0.821858</td>\n",
       "      <td>0.809473</td>\n",
       "      <td>0.815618</td>\n",
       "      <td>3716.000000</td>\n",
       "    </tr>\n",
       "    <tr>\n",
       "      <th>2</th>\n",
       "      <td>0.975368</td>\n",
       "      <td>0.991177</td>\n",
       "      <td>0.983209</td>\n",
       "      <td>39671.000000</td>\n",
       "    </tr>\n",
       "    <tr>\n",
       "      <th>3</th>\n",
       "      <td>0.000000</td>\n",
       "      <td>0.000000</td>\n",
       "      <td>0.000000</td>\n",
       "      <td>0.000000</td>\n",
       "    </tr>\n",
       "    <tr>\n",
       "      <th>5</th>\n",
       "      <td>0.959742</td>\n",
       "      <td>0.898953</td>\n",
       "      <td>0.928353</td>\n",
       "      <td>15567.000000</td>\n",
       "    </tr>\n",
       "    <tr>\n",
       "      <th>6</th>\n",
       "      <td>0.696613</td>\n",
       "      <td>0.545890</td>\n",
       "      <td>0.612110</td>\n",
       "      <td>2713.000000</td>\n",
       "    </tr>\n",
       "    <tr>\n",
       "      <th>7</th>\n",
       "      <td>0.951950</td>\n",
       "      <td>0.980021</td>\n",
       "      <td>0.965782</td>\n",
       "      <td>30081.000000</td>\n",
       "    </tr>\n",
       "    <tr>\n",
       "      <th>accuracy</th>\n",
       "      <td>0.951345</td>\n",
       "      <td>0.951345</td>\n",
       "      <td>0.951345</td>\n",
       "      <td>0.951345</td>\n",
       "    </tr>\n",
       "    <tr>\n",
       "      <th>macro avg</th>\n",
       "      <td>0.734255</td>\n",
       "      <td>0.704252</td>\n",
       "      <td>0.717512</td>\n",
       "      <td>91748.000000</td>\n",
       "    </tr>\n",
       "    <tr>\n",
       "      <th>weighted avg</th>\n",
       "      <td>0.950579</td>\n",
       "      <td>0.951345</td>\n",
       "      <td>0.950427</td>\n",
       "      <td>91748.000000</td>\n",
       "    </tr>\n",
       "  </tbody>\n",
       "</table>\n",
       "</div>"
      ],
      "text/plain": [
       "              precision    recall  f1-score       support\n",
       "0              0.821858  0.809473  0.815618   3716.000000\n",
       "2              0.975368  0.991177  0.983209  39671.000000\n",
       "3              0.000000  0.000000  0.000000      0.000000\n",
       "5              0.959742  0.898953  0.928353  15567.000000\n",
       "6              0.696613  0.545890  0.612110   2713.000000\n",
       "7              0.951950  0.980021  0.965782  30081.000000\n",
       "accuracy       0.951345  0.951345  0.951345      0.951345\n",
       "macro avg      0.734255  0.704252  0.717512  91748.000000\n",
       "weighted avg   0.950579  0.951345  0.950427  91748.000000"
      ]
     },
     "execution_count": 10,
     "metadata": {},
     "output_type": "execute_result"
    }
   ],
   "source": [
    "pd.DataFrame(report).T"
   ]
  },
  {
   "cell_type": "code",
   "execution_count": null,
   "id": "d4bfb449",
   "metadata": {},
   "outputs": [],
   "source": [
    "## Experiment 2"
   ]
  },
  {
   "cell_type": "code",
   "execution_count": 11,
   "id": "beecbd9c",
   "metadata": {},
   "outputs": [
    {
     "data": {
      "text/html": [
       "<div>\n",
       "<style scoped>\n",
       "    .dataframe tbody tr th:only-of-type {\n",
       "        vertical-align: middle;\n",
       "    }\n",
       "\n",
       "    .dataframe tbody tr th {\n",
       "        vertical-align: top;\n",
       "    }\n",
       "\n",
       "    .dataframe thead th {\n",
       "        text-align: right;\n",
       "    }\n",
       "</style>\n",
       "<table border=\"1\" class=\"dataframe\">\n",
       "  <thead>\n",
       "    <tr style=\"text-align: right;\">\n",
       "      <th></th>\n",
       "      <th>precision</th>\n",
       "      <th>recall</th>\n",
       "      <th>f1-score</th>\n",
       "      <th>support</th>\n",
       "    </tr>\n",
       "  </thead>\n",
       "  <tbody>\n",
       "    <tr>\n",
       "      <th>0</th>\n",
       "      <td>0.815816</td>\n",
       "      <td>0.675245</td>\n",
       "      <td>0.738904</td>\n",
       "      <td>3575.000000</td>\n",
       "    </tr>\n",
       "    <tr>\n",
       "      <th>1</th>\n",
       "      <td>0.000000</td>\n",
       "      <td>0.000000</td>\n",
       "      <td>0.000000</td>\n",
       "      <td>0.000000</td>\n",
       "    </tr>\n",
       "    <tr>\n",
       "      <th>2</th>\n",
       "      <td>0.969170</td>\n",
       "      <td>0.977139</td>\n",
       "      <td>0.973138</td>\n",
       "      <td>39281.000000</td>\n",
       "    </tr>\n",
       "    <tr>\n",
       "      <th>3</th>\n",
       "      <td>0.000000</td>\n",
       "      <td>0.000000</td>\n",
       "      <td>0.000000</td>\n",
       "      <td>0.000000</td>\n",
       "    </tr>\n",
       "    <tr>\n",
       "      <th>4</th>\n",
       "      <td>0.000000</td>\n",
       "      <td>0.000000</td>\n",
       "      <td>0.000000</td>\n",
       "      <td>0.000000</td>\n",
       "    </tr>\n",
       "    <tr>\n",
       "      <th>5</th>\n",
       "      <td>0.578776</td>\n",
       "      <td>0.840750</td>\n",
       "      <td>0.685590</td>\n",
       "      <td>15887.000000</td>\n",
       "    </tr>\n",
       "    <tr>\n",
       "      <th>6</th>\n",
       "      <td>0.546969</td>\n",
       "      <td>0.592550</td>\n",
       "      <td>0.568848</td>\n",
       "      <td>2604.000000</td>\n",
       "    </tr>\n",
       "    <tr>\n",
       "      <th>7</th>\n",
       "      <td>0.899203</td>\n",
       "      <td>0.675800</td>\n",
       "      <td>0.771658</td>\n",
       "      <td>30401.000000</td>\n",
       "    </tr>\n",
       "    <tr>\n",
       "      <th>accuracy</th>\n",
       "      <td>0.830994</td>\n",
       "      <td>0.830994</td>\n",
       "      <td>0.830994</td>\n",
       "      <td>0.830994</td>\n",
       "    </tr>\n",
       "    <tr>\n",
       "      <th>macro avg</th>\n",
       "      <td>0.476242</td>\n",
       "      <td>0.470186</td>\n",
       "      <td>0.467267</td>\n",
       "      <td>91748.000000</td>\n",
       "    </tr>\n",
       "    <tr>\n",
       "      <th>weighted avg</th>\n",
       "      <td>0.860428</td>\n",
       "      <td>0.830994</td>\n",
       "      <td>0.835984</td>\n",
       "      <td>91748.000000</td>\n",
       "    </tr>\n",
       "  </tbody>\n",
       "</table>\n",
       "</div>"
      ],
      "text/plain": [
       "              precision    recall  f1-score       support\n",
       "0              0.815816  0.675245  0.738904   3575.000000\n",
       "1              0.000000  0.000000  0.000000      0.000000\n",
       "2              0.969170  0.977139  0.973138  39281.000000\n",
       "3              0.000000  0.000000  0.000000      0.000000\n",
       "4              0.000000  0.000000  0.000000      0.000000\n",
       "5              0.578776  0.840750  0.685590  15887.000000\n",
       "6              0.546969  0.592550  0.568848   2604.000000\n",
       "7              0.899203  0.675800  0.771658  30401.000000\n",
       "accuracy       0.830994  0.830994  0.830994      0.830994\n",
       "macro avg      0.476242  0.470186  0.467267  91748.000000\n",
       "weighted avg   0.860428  0.830994  0.835984  91748.000000"
      ]
     },
     "execution_count": 11,
     "metadata": {},
     "output_type": "execute_result"
    }
   ],
   "source": [
    "from sklearn.metrics import classification_report\n",
    "report = classification_report(experiments[1]['Real Class'], experiments[1]['Prediction'],output_dict=True)\n",
    "pd.DataFrame(report).T"
   ]
  },
  {
   "cell_type": "code",
   "execution_count": 12,
   "id": "69ee7d3f",
   "metadata": {},
   "outputs": [
    {
     "data": {
      "text/html": [
       "<div>\n",
       "<style scoped>\n",
       "    .dataframe tbody tr th:only-of-type {\n",
       "        vertical-align: middle;\n",
       "    }\n",
       "\n",
       "    .dataframe tbody tr th {\n",
       "        vertical-align: top;\n",
       "    }\n",
       "\n",
       "    .dataframe thead th {\n",
       "        text-align: right;\n",
       "    }\n",
       "</style>\n",
       "<table border=\"1\" class=\"dataframe\">\n",
       "  <thead>\n",
       "    <tr style=\"text-align: right;\">\n",
       "      <th></th>\n",
       "      <th>precision</th>\n",
       "      <th>recall</th>\n",
       "      <th>f1-score</th>\n",
       "      <th>support</th>\n",
       "    </tr>\n",
       "  </thead>\n",
       "  <tbody>\n",
       "    <tr>\n",
       "      <th>0</th>\n",
       "      <td>0.802932</td>\n",
       "      <td>0.765591</td>\n",
       "      <td>0.783817</td>\n",
       "      <td>3720.000000</td>\n",
       "    </tr>\n",
       "    <tr>\n",
       "      <th>1</th>\n",
       "      <td>0.000000</td>\n",
       "      <td>0.000000</td>\n",
       "      <td>0.000000</td>\n",
       "      <td>0.000000</td>\n",
       "    </tr>\n",
       "    <tr>\n",
       "      <th>2</th>\n",
       "      <td>0.970194</td>\n",
       "      <td>0.964644</td>\n",
       "      <td>0.967411</td>\n",
       "      <td>39682.000000</td>\n",
       "    </tr>\n",
       "    <tr>\n",
       "      <th>3</th>\n",
       "      <td>0.000000</td>\n",
       "      <td>0.000000</td>\n",
       "      <td>0.000000</td>\n",
       "      <td>0.000000</td>\n",
       "    </tr>\n",
       "    <tr>\n",
       "      <th>4</th>\n",
       "      <td>0.000000</td>\n",
       "      <td>0.000000</td>\n",
       "      <td>0.000000</td>\n",
       "      <td>0.000000</td>\n",
       "    </tr>\n",
       "    <tr>\n",
       "      <th>5</th>\n",
       "      <td>0.603076</td>\n",
       "      <td>0.946949</td>\n",
       "      <td>0.736868</td>\n",
       "      <td>15570.000000</td>\n",
       "    </tr>\n",
       "    <tr>\n",
       "      <th>6</th>\n",
       "      <td>0.565894</td>\n",
       "      <td>0.643786</td>\n",
       "      <td>0.602332</td>\n",
       "      <td>2768.000000</td>\n",
       "    </tr>\n",
       "    <tr>\n",
       "      <th>7</th>\n",
       "      <td>0.960993</td>\n",
       "      <td>0.675686</td>\n",
       "      <td>0.793473</td>\n",
       "      <td>30008.000000</td>\n",
       "    </tr>\n",
       "    <tr>\n",
       "      <th>accuracy</th>\n",
       "      <td>0.849381</td>\n",
       "      <td>0.849381</td>\n",
       "      <td>0.849381</td>\n",
       "      <td>0.849381</td>\n",
       "    </tr>\n",
       "    <tr>\n",
       "      <th>macro avg</th>\n",
       "      <td>0.487886</td>\n",
       "      <td>0.499582</td>\n",
       "      <td>0.485488</td>\n",
       "      <td>91748.000000</td>\n",
       "    </tr>\n",
       "    <tr>\n",
       "      <th>weighted avg</th>\n",
       "      <td>0.885904</td>\n",
       "      <td>0.849381</td>\n",
       "      <td>0.852939</td>\n",
       "      <td>91748.000000</td>\n",
       "    </tr>\n",
       "  </tbody>\n",
       "</table>\n",
       "</div>"
      ],
      "text/plain": [
       "              precision    recall  f1-score       support\n",
       "0              0.802932  0.765591  0.783817   3720.000000\n",
       "1              0.000000  0.000000  0.000000      0.000000\n",
       "2              0.970194  0.964644  0.967411  39682.000000\n",
       "3              0.000000  0.000000  0.000000      0.000000\n",
       "4              0.000000  0.000000  0.000000      0.000000\n",
       "5              0.603076  0.946949  0.736868  15570.000000\n",
       "6              0.565894  0.643786  0.602332   2768.000000\n",
       "7              0.960993  0.675686  0.793473  30008.000000\n",
       "accuracy       0.849381  0.849381  0.849381      0.849381\n",
       "macro avg      0.487886  0.499582  0.485488  91748.000000\n",
       "weighted avg   0.885904  0.849381  0.852939  91748.000000"
      ]
     },
     "execution_count": 12,
     "metadata": {},
     "output_type": "execute_result"
    }
   ],
   "source": [
    "from sklearn.metrics import classification_report\n",
    "report = classification_report(experiments[2]['Real Class'], experiments[2]['Prediction'],output_dict=True)\n",
    "pd.DataFrame(report).T"
   ]
  }
 ],
 "metadata": {
  "kernelspec": {
   "display_name": "Python 3 (ipykernel)",
   "language": "python",
   "name": "python3"
  },
  "language_info": {
   "codemirror_mode": {
    "name": "ipython",
    "version": 3
   },
   "file_extension": ".py",
   "mimetype": "text/x-python",
   "name": "python",
   "nbconvert_exporter": "python",
   "pygments_lexer": "ipython3",
   "version": "3.9.7"
  }
 },
 "nbformat": 4,
 "nbformat_minor": 5
}
